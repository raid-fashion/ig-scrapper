{
 "cells": [
  {
   "cell_type": "code",
   "execution_count": 2,
   "metadata": {},
   "outputs": [],
   "source": [
    "import logging\n",
    "import os\n",
    "import pickle\n",
    "import time\n",
    "\n",
    "import requests\n",
    "from selenium import webdriver\n",
    "from selenium.common.exceptions import NoSuchElementException\n",
    "from selenium.webdriver.common.by import By\n",
    "from selenium.webdriver.common.keys import Keys\n",
    "from selenium.webdriver.firefox.options import Options as FirefoxOptions\n"
   ]
  },
  {
   "cell_type": "code",
   "execution_count": 3,
   "metadata": {},
   "outputs": [],
   "source": [
    "url = \"https://www.instagram.com/albamelendo/?hl=en\""
   ]
  },
  {
   "cell_type": "code",
   "execution_count": 4,
   "metadata": {},
   "outputs": [],
   "source": [
    "options = FirefoxOptions()\n",
    "# options.add_argument(\"--headless\")\n",
    "\n",
    "driver = webdriver.Firefox(options=options)"
   ]
  },
  {
   "cell_type": "code",
   "execution_count": 5,
   "metadata": {},
   "outputs": [],
   "source": [
    "driver.get(\"https://www.instagram.com\")"
   ]
  },
  {
   "cell_type": "code",
   "execution_count": 6,
   "metadata": {},
   "outputs": [],
   "source": [
    "driver.get(url)"
   ]
  },
  {
   "cell_type": "code",
   "execution_count": 28,
   "metadata": {},
   "outputs": [
    {
     "data": {
      "text/plain": [
       "24"
      ]
     },
     "execution_count": 28,
     "metadata": {},
     "output_type": "execute_result"
    }
   ],
   "source": [
    "grid_class = \"x1iyjqo2\"\n",
    "grid = driver.find_element(By.TAG_NAME, \"article\")\n",
    "posts = grid.find_elements(By.CLASS_NAME, \"x1i10hfl.xjbqb8w.x6umtig.x1b1mbwd\")\n",
    "len(posts)"
   ]
  },
  {
   "cell_type": "code",
   "execution_count": 29,
   "metadata": {},
   "outputs": [
    {
     "data": {
      "text/plain": [
       "[<selenium.webdriver.remote.webelement.WebElement (session=\"d7be1fdc-9ac6-4b43-93d4-7ead2e244c0c\", element=\"635842a0-adb3-49db-a0ee-496599bec0d8\")>,\n",
       " <selenium.webdriver.remote.webelement.WebElement (session=\"d7be1fdc-9ac6-4b43-93d4-7ead2e244c0c\", element=\"417fd8c7-5149-40cb-8cb5-be9233caf99f\")>,\n",
       " <selenium.webdriver.remote.webelement.WebElement (session=\"d7be1fdc-9ac6-4b43-93d4-7ead2e244c0c\", element=\"9c6be7a6-a482-4575-ba70-9955cc730e0a\")>,\n",
       " <selenium.webdriver.remote.webelement.WebElement (session=\"d7be1fdc-9ac6-4b43-93d4-7ead2e244c0c\", element=\"deb2f189-5220-49af-997a-99ff2dd31b5f\")>,\n",
       " <selenium.webdriver.remote.webelement.WebElement (session=\"d7be1fdc-9ac6-4b43-93d4-7ead2e244c0c\", element=\"48971603-68a3-40e4-a17b-590cc01b43f8\")>,\n",
       " <selenium.webdriver.remote.webelement.WebElement (session=\"d7be1fdc-9ac6-4b43-93d4-7ead2e244c0c\", element=\"014c657e-564d-4889-ac62-bfdd086e89bf\")>,\n",
       " <selenium.webdriver.remote.webelement.WebElement (session=\"d7be1fdc-9ac6-4b43-93d4-7ead2e244c0c\", element=\"1fb18c3b-02a2-49b5-8df8-c6141954a8d1\")>,\n",
       " <selenium.webdriver.remote.webelement.WebElement (session=\"d7be1fdc-9ac6-4b43-93d4-7ead2e244c0c\", element=\"70048e63-3e2d-4e63-bb2b-7a384572561b\")>,\n",
       " <selenium.webdriver.remote.webelement.WebElement (session=\"d7be1fdc-9ac6-4b43-93d4-7ead2e244c0c\", element=\"211e2b10-b94d-4421-a418-fb308b56bea4\")>,\n",
       " <selenium.webdriver.remote.webelement.WebElement (session=\"d7be1fdc-9ac6-4b43-93d4-7ead2e244c0c\", element=\"a57d6715-e5d7-4c85-b131-e70ce9cce32b\")>,\n",
       " <selenium.webdriver.remote.webelement.WebElement (session=\"d7be1fdc-9ac6-4b43-93d4-7ead2e244c0c\", element=\"b0dd89dc-989b-4cde-8ac8-af905b1de038\")>,\n",
       " <selenium.webdriver.remote.webelement.WebElement (session=\"d7be1fdc-9ac6-4b43-93d4-7ead2e244c0c\", element=\"9f791475-0bcc-4c07-8a4d-0f1e1d9f39ba\")>,\n",
       " <selenium.webdriver.remote.webelement.WebElement (session=\"d7be1fdc-9ac6-4b43-93d4-7ead2e244c0c\", element=\"25ee87d7-6a99-4df5-a1c6-2fd214b9e87b\")>,\n",
       " <selenium.webdriver.remote.webelement.WebElement (session=\"d7be1fdc-9ac6-4b43-93d4-7ead2e244c0c\", element=\"3177868d-4f18-44da-8e75-63fbdc3b994c\")>,\n",
       " <selenium.webdriver.remote.webelement.WebElement (session=\"d7be1fdc-9ac6-4b43-93d4-7ead2e244c0c\", element=\"c6834f33-49c4-446c-a07e-5fb0bdcc2342\")>,\n",
       " <selenium.webdriver.remote.webelement.WebElement (session=\"d7be1fdc-9ac6-4b43-93d4-7ead2e244c0c\", element=\"9fe9f792-f7ac-4964-9c86-36d31202ffe2\")>,\n",
       " <selenium.webdriver.remote.webelement.WebElement (session=\"d7be1fdc-9ac6-4b43-93d4-7ead2e244c0c\", element=\"d4578c28-61a3-4f22-b193-87923f027de1\")>,\n",
       " <selenium.webdriver.remote.webelement.WebElement (session=\"d7be1fdc-9ac6-4b43-93d4-7ead2e244c0c\", element=\"448cc927-0a31-4269-acd8-4d86c891e45e\")>,\n",
       " <selenium.webdriver.remote.webelement.WebElement (session=\"d7be1fdc-9ac6-4b43-93d4-7ead2e244c0c\", element=\"ad5ffa2e-ca55-49a7-bfb4-5796a5eef464\")>,\n",
       " <selenium.webdriver.remote.webelement.WebElement (session=\"d7be1fdc-9ac6-4b43-93d4-7ead2e244c0c\", element=\"136d2e0f-380d-499b-bfb7-85baaf88a817\")>,\n",
       " <selenium.webdriver.remote.webelement.WebElement (session=\"d7be1fdc-9ac6-4b43-93d4-7ead2e244c0c\", element=\"04c161d2-fc0b-4179-a9a0-edb0f45784a7\")>,\n",
       " <selenium.webdriver.remote.webelement.WebElement (session=\"d7be1fdc-9ac6-4b43-93d4-7ead2e244c0c\", element=\"40ffce59-619d-4194-850d-db48305cd870\")>,\n",
       " <selenium.webdriver.remote.webelement.WebElement (session=\"d7be1fdc-9ac6-4b43-93d4-7ead2e244c0c\", element=\"57169f05-5131-4a3e-b9b0-3030d7cc0b00\")>,\n",
       " <selenium.webdriver.remote.webelement.WebElement (session=\"d7be1fdc-9ac6-4b43-93d4-7ead2e244c0c\", element=\"6a1fbca0-ed11-4d1c-b98c-9e3c34b93da7\")>]"
      ]
     },
     "execution_count": 29,
     "metadata": {},
     "output_type": "execute_result"
    }
   ],
   "source": [
    "posts"
   ]
  },
  {
   "cell_type": "code",
   "execution_count": 33,
   "metadata": {},
   "outputs": [],
   "source": [
    "image_url = posts[0].find_element(By.TAG_NAME, \"img\").get_attribute(\"src\")"
   ]
  },
  {
   "cell_type": "code",
   "execution_count": 34,
   "metadata": {},
   "outputs": [
    {
     "data": {
      "text/plain": [
       "'f86adb4da7629ff3fa29ae010cd9cd6c6de5b2ec2666fa38a1cb30a93b41378f'"
      ]
     },
     "execution_count": 34,
     "metadata": {},
     "output_type": "execute_result"
    }
   ],
   "source": [
    "from hashlib import sha256\n",
    "sha256(image_url.encode(\"utf-8\")).hexdigest()"
   ]
  },
  {
   "cell_type": "code",
   "execution_count": null,
   "metadata": {},
   "outputs": [],
   "source": []
  }
 ],
 "metadata": {
  "kernelspec": {
   "display_name": "venv",
   "language": "python",
   "name": "python3"
  },
  "language_info": {
   "codemirror_mode": {
    "name": "ipython",
    "version": 3
   },
   "file_extension": ".py",
   "mimetype": "text/x-python",
   "name": "python",
   "nbconvert_exporter": "python",
   "pygments_lexer": "ipython3",
   "version": "3.10.13"
  }
 },
 "nbformat": 4,
 "nbformat_minor": 2
}
